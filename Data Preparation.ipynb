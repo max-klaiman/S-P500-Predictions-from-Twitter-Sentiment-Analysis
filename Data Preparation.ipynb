{
 "cells": [
  {
   "cell_type": "code",
   "execution_count": 6,
   "id": "98b0da38",
   "metadata": {},
   "outputs": [],
   "source": [
    "import pandas as pd\n",
    "import numpy as np\n",
    "import datetime"
   ]
  },
  {
   "cell_type": "code",
   "execution_count": 7,
   "id": "63298ad0",
   "metadata": {},
   "outputs": [],
   "source": [
    "companies_list = ('Apple', 'Microsoft', 'Amazon', 'Nvidia', 'Google', 'Berkshire Hathaway', 'Facebook', 'Exxon Mobil', \n",
    "        'UnitedHealth Group', 'Tesla', 'Johnson & Johnson', 'JPMorgan', 'Visa', 'Proctor & Gamble')"
   ]
  },
  {
   "cell_type": "code",
   "execution_count": 8,
   "id": "7c03e08f",
   "metadata": {},
   "outputs": [],
   "source": [
    "visa_tweets = pd.read_csv('Visa_stocktweets.csv', index_col=\"Datetime\", parse_dates=[\"Datetime\"])\n",
    "apple_tweets = pd.read_csv('Apple_stocktweets.csv', index_col=\"Datetime\", parse_dates=[\"Datetime\"])\n",
    "microsoft_tweets = pd.read_csv('Microsoft_stocktweets.csv', index_col=\"Datetime\", parse_dates=[\"Datetime\"])\n",
    "amazon_tweets = pd.read_csv('Amazon_stocktweets.csv', index_col=\"Datetime\", parse_dates=[\"Datetime\"])\n",
    "nvidia_tweets = pd.read_csv('Nvidia_stocktweets.csv', index_col=\"Datetime\", parse_dates=[\"Datetime\"])\n",
    "google_tweets = pd.read_csv('Google_stocktweets.csv', index_col=\"Datetime\", parse_dates=[\"Datetime\"])\n",
    "brk_tweets = pd.read_csv('Berkshire Hathaway_stocktweets.csv', index_col=\"Datetime\", parse_dates=[\"Datetime\"])\n",
    "meta_tweets = pd.read_csv('Facebook_stocktweets.csv', index_col=\"Datetime\", parse_dates=[\"Datetime\"])\n",
    "exxonmobil_tweets = pd.read_csv('Exxon Mobil_stocktweets.csv', index_col=\"Datetime\", parse_dates=[\"Datetime\"])\n",
    "uhg_tweets = pd.read_csv('UnitedHealth Group_stocktweets.csv', index_col=\"Datetime\", parse_dates=[\"Datetime\"])\n",
    "tesla_tweets = pd.read_csv('Tesla_stocktweets.csv', index_col=\"Datetime\", parse_dates=[\"Datetime\"])\n",
    "jj_tweets = pd.read_csv('Johnson & Johnson_stocktweets.csv', index_col=\"Datetime\", parse_dates=[\"Datetime\"])\n",
    "jpm_tweets = pd.read_csv('JPMorgan_stocktweets.csv', index_col=\"Datetime\", parse_dates=[\"Datetime\"])\n",
    "pg_tweets = pd.read_csv('Proctor & Gamble_stocktweets.csv', index_col=\"Datetime\", parse_dates=[\"Datetime\"])"
   ]
  },
  {
   "cell_type": "code",
   "execution_count": 9,
   "id": "777efd9e",
   "metadata": {},
   "outputs": [],
   "source": [
    "tweets_df_list = [visa_tweets,apple_tweets,microsoft_tweets,amazon_tweets,nvidia_tweets,google_tweets,\n",
    "                  brk_tweets,meta_tweets,exxonmobil_tweets,uhg_tweets,tesla_tweets, jj_tweets,\n",
    "                  jpm_tweets,pg_tweets]"
   ]
  },
  {
   "cell_type": "code",
   "execution_count": 10,
   "id": "3136610b",
   "metadata": {},
   "outputs": [
    {
     "data": {
      "text/html": [
       "<div>\n",
       "<style scoped>\n",
       "    .dataframe tbody tr th:only-of-type {\n",
       "        vertical-align: middle;\n",
       "    }\n",
       "\n",
       "    .dataframe tbody tr th {\n",
       "        vertical-align: top;\n",
       "    }\n",
       "\n",
       "    .dataframe thead th {\n",
       "        text-align: right;\n",
       "    }\n",
       "</style>\n",
       "<table border=\"1\" class=\"dataframe\">\n",
       "  <thead>\n",
       "    <tr style=\"text-align: right;\">\n",
       "      <th></th>\n",
       "      <th>Tweet Id</th>\n",
       "      <th>Text</th>\n",
       "      <th>Username</th>\n",
       "    </tr>\n",
       "    <tr>\n",
       "      <th>Datetime</th>\n",
       "      <th></th>\n",
       "      <th></th>\n",
       "      <th></th>\n",
       "    </tr>\n",
       "  </thead>\n",
       "  <tbody>\n",
       "    <tr>\n",
       "      <th>2023-01-01 23:59:51+00:00</th>\n",
       "      <td>1609700964302192645</td>\n",
       "      <td>@NanyPardo Fuiste importante para facebook y t...</td>\n",
       "      <td>AndressRave</td>\n",
       "    </tr>\n",
       "    <tr>\n",
       "      <th>2023-01-01 23:59:49+00:00</th>\n",
       "      <td>1609700954752053251</td>\n",
       "      <td>I just joined this cougar group on facebook an...</td>\n",
       "      <td>dtxklino</td>\n",
       "    </tr>\n",
       "    <tr>\n",
       "      <th>2023-01-01 23:59:44+00:00</th>\n",
       "      <td>1609700935541948421</td>\n",
       "      <td>Um bolsonarista ex participante de meu círculo...</td>\n",
       "      <td>YoDonizetti</td>\n",
       "    </tr>\n",
       "    <tr>\n",
       "      <th>2023-01-01 23:59:42+00:00</th>\n",
       "      <td>1609700925404491778</td>\n",
       "      <td>SNSのなんの略か知ってるかな、\\n\\nA,　ソーシャルネットーキングサービスのことだよ。今...</td>\n",
       "      <td>akiraups3</td>\n",
       "    </tr>\n",
       "    <tr>\n",
       "      <th>2023-01-01 23:59:35+00:00</th>\n",
       "      <td>1609700897030045697</td>\n",
       "      <td>@DanAdam1990 @mattrife I just found him too th...</td>\n",
       "      <td>brendadaly1980</td>\n",
       "    </tr>\n",
       "    <tr>\n",
       "      <th>...</th>\n",
       "      <td>...</td>\n",
       "      <td>...</td>\n",
       "      <td>...</td>\n",
       "    </tr>\n",
       "    <tr>\n",
       "      <th>2023-03-31 23:59:36+00:00</th>\n",
       "      <td>1641953423883919361</td>\n",
       "      <td>@SuperGrobanite @wiley207 I like Big Bird’s pa...</td>\n",
       "      <td>JeremiahLiles1</td>\n",
       "    </tr>\n",
       "    <tr>\n",
       "      <th>2023-03-31 23:59:38+00:00</th>\n",
       "      <td>1641953431807045634</td>\n",
       "      <td>If you get a message from me on facebook it’s ...</td>\n",
       "      <td>ChocoThunder43</td>\n",
       "    </tr>\n",
       "    <tr>\n",
       "      <th>2023-03-31 23:59:35+00:00</th>\n",
       "      <td>1641953419366891520</td>\n",
       "      <td>湯島天神駅にて対面鑑定を行っています。詳しくはfacebookにて。\\nhttps://t....</td>\n",
       "      <td>lucidafortune</td>\n",
       "    </tr>\n",
       "    <tr>\n",
       "      <th>2023-03-31 23:59:35+00:00</th>\n",
       "      <td>1641953417063981060</td>\n",
       "      <td>Aí vc pega esse mesmo individuo que entrou na ...</td>\n",
       "      <td>brunomikee</td>\n",
       "    </tr>\n",
       "    <tr>\n",
       "      <th>2023-03-31 23:59:28+00:00</th>\n",
       "      <td>1641953386953056257</td>\n",
       "      <td>Entendible porque ser xboxer es para burlarse,...</td>\n",
       "      <td>Semphyternal</td>\n",
       "    </tr>\n",
       "  </tbody>\n",
       "</table>\n",
       "<p>990 rows × 3 columns</p>\n",
       "</div>"
      ],
      "text/plain": [
       "                                      Tweet Id  \\\n",
       "Datetime                                         \n",
       "2023-01-01 23:59:51+00:00  1609700964302192645   \n",
       "2023-01-01 23:59:49+00:00  1609700954752053251   \n",
       "2023-01-01 23:59:44+00:00  1609700935541948421   \n",
       "2023-01-01 23:59:42+00:00  1609700925404491778   \n",
       "2023-01-01 23:59:35+00:00  1609700897030045697   \n",
       "...                                        ...   \n",
       "2023-03-31 23:59:36+00:00  1641953423883919361   \n",
       "2023-03-31 23:59:38+00:00  1641953431807045634   \n",
       "2023-03-31 23:59:35+00:00  1641953419366891520   \n",
       "2023-03-31 23:59:35+00:00  1641953417063981060   \n",
       "2023-03-31 23:59:28+00:00  1641953386953056257   \n",
       "\n",
       "                                                                        Text  \\\n",
       "Datetime                                                                       \n",
       "2023-01-01 23:59:51+00:00  @NanyPardo Fuiste importante para facebook y t...   \n",
       "2023-01-01 23:59:49+00:00  I just joined this cougar group on facebook an...   \n",
       "2023-01-01 23:59:44+00:00  Um bolsonarista ex participante de meu círculo...   \n",
       "2023-01-01 23:59:42+00:00  SNSのなんの略か知ってるかな、\\n\\nA,　ソーシャルネットーキングサービスのことだよ。今...   \n",
       "2023-01-01 23:59:35+00:00  @DanAdam1990 @mattrife I just found him too th...   \n",
       "...                                                                      ...   \n",
       "2023-03-31 23:59:36+00:00  @SuperGrobanite @wiley207 I like Big Bird’s pa...   \n",
       "2023-03-31 23:59:38+00:00  If you get a message from me on facebook it’s ...   \n",
       "2023-03-31 23:59:35+00:00  湯島天神駅にて対面鑑定を行っています。詳しくはfacebookにて。\\nhttps://t....   \n",
       "2023-03-31 23:59:35+00:00  Aí vc pega esse mesmo individuo que entrou na ...   \n",
       "2023-03-31 23:59:28+00:00  Entendible porque ser xboxer es para burlarse,...   \n",
       "\n",
       "                                 Username  \n",
       "Datetime                                   \n",
       "2023-01-01 23:59:51+00:00     AndressRave  \n",
       "2023-01-01 23:59:49+00:00        dtxklino  \n",
       "2023-01-01 23:59:44+00:00     YoDonizetti  \n",
       "2023-01-01 23:59:42+00:00       akiraups3  \n",
       "2023-01-01 23:59:35+00:00  brendadaly1980  \n",
       "...                                   ...  \n",
       "2023-03-31 23:59:36+00:00  JeremiahLiles1  \n",
       "2023-03-31 23:59:38+00:00  ChocoThunder43  \n",
       "2023-03-31 23:59:35+00:00   lucidafortune  \n",
       "2023-03-31 23:59:35+00:00      brunomikee  \n",
       "2023-03-31 23:59:28+00:00    Semphyternal  \n",
       "\n",
       "[990 rows x 3 columns]"
      ]
     },
     "execution_count": 10,
     "metadata": {},
     "output_type": "execute_result"
    }
   ],
   "source": [
    "meta_tweets"
   ]
  },
  {
   "cell_type": "code",
   "execution_count": 11,
   "id": "b6bad7ac",
   "metadata": {},
   "outputs": [],
   "source": [
    "all_tweets = pd.concat(\n",
    "    tweets_df_list,\n",
    "    axis=0,\n",
    "    join=\"outer\",\n",
    "    ignore_index=False,\n",
    "    keys=None,\n",
    "    levels=None,\n",
    "    names=None,\n",
    "    verify_integrity=False,\n",
    "    copy=True,\n",
    ")"
   ]
  },
  {
   "cell_type": "code",
   "execution_count": 12,
   "id": "f137eff4",
   "metadata": {},
   "outputs": [
    {
     "data": {
      "text/html": [
       "<div>\n",
       "<style scoped>\n",
       "    .dataframe tbody tr th:only-of-type {\n",
       "        vertical-align: middle;\n",
       "    }\n",
       "\n",
       "    .dataframe tbody tr th {\n",
       "        vertical-align: top;\n",
       "    }\n",
       "\n",
       "    .dataframe thead th {\n",
       "        text-align: right;\n",
       "    }\n",
       "</style>\n",
       "<table border=\"1\" class=\"dataframe\">\n",
       "  <thead>\n",
       "    <tr style=\"text-align: right;\">\n",
       "      <th></th>\n",
       "      <th>Tweet Id</th>\n",
       "      <th>Text</th>\n",
       "      <th>Username</th>\n",
       "    </tr>\n",
       "    <tr>\n",
       "      <th>Datetime</th>\n",
       "      <th></th>\n",
       "      <th></th>\n",
       "      <th></th>\n",
       "    </tr>\n",
       "  </thead>\n",
       "  <tbody>\n",
       "    <tr>\n",
       "      <th>2023-01-01 23:59:48+00:00</th>\n",
       "      <td>1609700952596164608</td>\n",
       "      <td>@rebeccaradfor15 @tweetraychang There is a fur...</td>\n",
       "      <td>grahamwil</td>\n",
       "    </tr>\n",
       "    <tr>\n",
       "      <th>2023-01-01 23:59:44+00:00</th>\n",
       "      <td>1609700934455812097</td>\n",
       "      <td>@Amaro_Coronel O grande responsável por essa d...</td>\n",
       "      <td>damaresamaro</td>\n",
       "    </tr>\n",
       "    <tr>\n",
       "      <th>2023-01-01 23:59:20+00:00</th>\n",
       "      <td>1609700835260350465</td>\n",
       "      <td>@AMCTheatres 4.1 mln AMC shareholders that’s 4...</td>\n",
       "      <td>Brett52617414</td>\n",
       "    </tr>\n",
       "    <tr>\n",
       "      <th>2023-01-01 23:59:11+00:00</th>\n",
       "      <td>1609700798371631104</td>\n",
       "      <td>@MrMnd73 @eclipesed @SimonBe01130783 @peterdyk...</td>\n",
       "      <td>polkapiquee</td>\n",
       "    </tr>\n",
       "    <tr>\n",
       "      <th>2023-01-01 23:58:18+00:00</th>\n",
       "      <td>1609700576291610624</td>\n",
       "      <td>@veera_284 PTR implicated himself by claiming ...</td>\n",
       "      <td>daffa96584229</td>\n",
       "    </tr>\n",
       "    <tr>\n",
       "      <th>...</th>\n",
       "      <td>...</td>\n",
       "      <td>...</td>\n",
       "      <td>...</td>\n",
       "    </tr>\n",
       "    <tr>\n",
       "      <th>2023-03-31 15:29:14+00:00</th>\n",
       "      <td>1641824983813873664</td>\n",
       "      <td>We back this morning! @FiberSpace227 is hostin...</td>\n",
       "      <td>Tendin2</td>\n",
       "    </tr>\n",
       "    <tr>\n",
       "      <th>2023-03-31 14:42:29+00:00</th>\n",
       "      <td>1641813218552168448</td>\n",
       "      <td>The new episode of the \"Business Success in a ...</td>\n",
       "      <td>BGoldenbergISM</td>\n",
       "    </tr>\n",
       "    <tr>\n",
       "      <th>2023-03-31 14:06:08+00:00</th>\n",
       "      <td>1641804070372425730</td>\n",
       "      <td>I know this is this influencers ad for his pro...</td>\n",
       "      <td>deluxe_pepe</td>\n",
       "    </tr>\n",
       "    <tr>\n",
       "      <th>2023-03-31 08:07:19+00:00</th>\n",
       "      <td>1641713774179782656</td>\n",
       "      <td>@VincentCrypt46 PAMPERS IS PUT OUT BY PROCTOR ...</td>\n",
       "      <td>BevPat14</td>\n",
       "    </tr>\n",
       "    <tr>\n",
       "      <th>2023-03-31 06:28:42+00:00</th>\n",
       "      <td>1641688955098746881</td>\n",
       "      <td>Effects of 2 Russain SU's taking one a C130 ca...</td>\n",
       "      <td>johnskeene25</td>\n",
       "    </tr>\n",
       "  </tbody>\n",
       "</table>\n",
       "<p>13761 rows × 3 columns</p>\n",
       "</div>"
      ],
      "text/plain": [
       "                                      Tweet Id  \\\n",
       "Datetime                                         \n",
       "2023-01-01 23:59:48+00:00  1609700952596164608   \n",
       "2023-01-01 23:59:44+00:00  1609700934455812097   \n",
       "2023-01-01 23:59:20+00:00  1609700835260350465   \n",
       "2023-01-01 23:59:11+00:00  1609700798371631104   \n",
       "2023-01-01 23:58:18+00:00  1609700576291610624   \n",
       "...                                        ...   \n",
       "2023-03-31 15:29:14+00:00  1641824983813873664   \n",
       "2023-03-31 14:42:29+00:00  1641813218552168448   \n",
       "2023-03-31 14:06:08+00:00  1641804070372425730   \n",
       "2023-03-31 08:07:19+00:00  1641713774179782656   \n",
       "2023-03-31 06:28:42+00:00  1641688955098746881   \n",
       "\n",
       "                                                                        Text  \\\n",
       "Datetime                                                                       \n",
       "2023-01-01 23:59:48+00:00  @rebeccaradfor15 @tweetraychang There is a fur...   \n",
       "2023-01-01 23:59:44+00:00  @Amaro_Coronel O grande responsável por essa d...   \n",
       "2023-01-01 23:59:20+00:00  @AMCTheatres 4.1 mln AMC shareholders that’s 4...   \n",
       "2023-01-01 23:59:11+00:00  @MrMnd73 @eclipesed @SimonBe01130783 @peterdyk...   \n",
       "2023-01-01 23:58:18+00:00  @veera_284 PTR implicated himself by claiming ...   \n",
       "...                                                                      ...   \n",
       "2023-03-31 15:29:14+00:00  We back this morning! @FiberSpace227 is hostin...   \n",
       "2023-03-31 14:42:29+00:00  The new episode of the \"Business Success in a ...   \n",
       "2023-03-31 14:06:08+00:00  I know this is this influencers ad for his pro...   \n",
       "2023-03-31 08:07:19+00:00  @VincentCrypt46 PAMPERS IS PUT OUT BY PROCTOR ...   \n",
       "2023-03-31 06:28:42+00:00  Effects of 2 Russain SU's taking one a C130 ca...   \n",
       "\n",
       "                                 Username  \n",
       "Datetime                                   \n",
       "2023-01-01 23:59:48+00:00       grahamwil  \n",
       "2023-01-01 23:59:44+00:00    damaresamaro  \n",
       "2023-01-01 23:59:20+00:00   Brett52617414  \n",
       "2023-01-01 23:59:11+00:00     polkapiquee  \n",
       "2023-01-01 23:58:18+00:00   daffa96584229  \n",
       "...                                   ...  \n",
       "2023-03-31 15:29:14+00:00         Tendin2  \n",
       "2023-03-31 14:42:29+00:00  BGoldenbergISM  \n",
       "2023-03-31 14:06:08+00:00     deluxe_pepe  \n",
       "2023-03-31 08:07:19+00:00        BevPat14  \n",
       "2023-03-31 06:28:42+00:00    johnskeene25  \n",
       "\n",
       "[13761 rows x 3 columns]"
      ]
     },
     "execution_count": 12,
     "metadata": {},
     "output_type": "execute_result"
    }
   ],
   "source": [
    "all_tweets"
   ]
  },
  {
   "cell_type": "code",
   "execution_count": 13,
   "id": "50c03ad3",
   "metadata": {},
   "outputs": [],
   "source": [
    "from transformers import BertTokenizer, BertForSequenceClassification\n",
    "\n",
    "finbert = BertForSequenceClassification.from_pretrained('yiyanghkust/finbert-tone')\n",
    "tokenizer = BertTokenizer.from_pretrained('yiyanghkust/finbert-tone')\n",
    "labels = {0:'neutral', 1:'positive',2:'negative'}"
   ]
  },
  {
   "cell_type": "code",
   "execution_count": 14,
   "id": "92cbad95",
   "metadata": {},
   "outputs": [
    {
     "data": {
      "text/plain": [
       "Datetime\n",
       "2023-01-01 23:59:48+00:00    @rebeccaradfor15 @tweetraychang There is a fur...\n",
       "2023-01-01 23:59:44+00:00    @Amaro_Coronel O grande responsável por essa d...\n",
       "2023-01-01 23:59:20+00:00    @AMCTheatres 4.1 mln AMC shareholders that’s 4...\n",
       "2023-01-01 23:59:11+00:00    @MrMnd73 @eclipesed @SimonBe01130783 @peterdyk...\n",
       "2023-01-01 23:58:18+00:00    @veera_284 PTR implicated himself by claiming ...\n",
       "                                                   ...                        \n",
       "2023-03-31 23:58:25+00:00    熊本市電のvisaタッチ、全車両導入に加えてvisa以外も拡充するのか。素晴らしい👏\\nQR...\n",
       "2023-03-31 23:58:03+00:00    Si reciben un mail de Visa con un aviso de “de...\n",
       "2023-03-31 23:57:15+00:00                                         無事VISAゲット🇬🇧💕\n",
       "2023-03-31 23:57:03+00:00    @andrewjnorton @georgetan_gt Yes it’s a proble...\n",
       "2023-03-31 23:56:36+00:00    @ImranRiazKhan Mr youthiya sahafi ap ka leader...\n",
       "Name: Text, Length: 990, dtype: object"
      ]
     },
     "execution_count": 14,
     "metadata": {},
     "output_type": "execute_result"
    }
   ],
   "source": [
    "visa_x = visa_tweets['Text']\n",
    "visa_x"
   ]
  },
  {
   "cell_type": "code",
   "execution_count": 15,
   "id": "8a92ab19",
   "metadata": {},
   "outputs": [
    {
     "ename": "KeyboardInterrupt",
     "evalue": "",
     "output_type": "error",
     "traceback": [
      "\u001b[0;31m---------------------------------------------------------------------------\u001b[0m",
      "\u001b[0;31mKeyboardInterrupt\u001b[0m                         Traceback (most recent call last)",
      "Input \u001b[0;32mIn [15]\u001b[0m, in \u001b[0;36m<cell line: 3>\u001b[0;34m()\u001b[0m\n\u001b[1;32m      3\u001b[0m \u001b[38;5;28;01mfor\u001b[39;00m x \u001b[38;5;129;01min\u001b[39;00m visa_x:\n\u001b[1;32m      4\u001b[0m     inputs \u001b[38;5;241m=\u001b[39m tokenizer(x, return_tensors\u001b[38;5;241m=\u001b[39m\u001b[38;5;124m\"\u001b[39m\u001b[38;5;124mpt\u001b[39m\u001b[38;5;124m\"\u001b[39m, padding\u001b[38;5;241m=\u001b[39m\u001b[38;5;28;01mTrue\u001b[39;00m)\n\u001b[0;32m----> 5\u001b[0m     outputs \u001b[38;5;241m=\u001b[39m \u001b[43mfinbert\u001b[49m\u001b[43m(\u001b[49m\u001b[38;5;241;43m*\u001b[39;49m\u001b[38;5;241;43m*\u001b[39;49m\u001b[43minputs\u001b[49m\u001b[43m)\u001b[49m[\u001b[38;5;241m0\u001b[39m]\n\u001b[1;32m      7\u001b[0m     val \u001b[38;5;241m=\u001b[39m labels[np\u001b[38;5;241m.\u001b[39margmax(outputs\u001b[38;5;241m.\u001b[39mdetach()\u001b[38;5;241m.\u001b[39mnumpy())]\n\u001b[1;32m      8\u001b[0m     \u001b[38;5;66;03m#print(x, '----', val)\u001b[39;00m\n\u001b[1;32m      9\u001b[0m     \u001b[38;5;66;03m#print('#######################################################')    \u001b[39;00m\n",
      "File \u001b[0;32m~/opt/anaconda3/envs/Tensorflow/lib/python3.8/site-packages/torch/nn/modules/module.py:1130\u001b[0m, in \u001b[0;36mModule._call_impl\u001b[0;34m(self, *input, **kwargs)\u001b[0m\n\u001b[1;32m   1126\u001b[0m \u001b[38;5;66;03m# If we don't have any hooks, we want to skip the rest of the logic in\u001b[39;00m\n\u001b[1;32m   1127\u001b[0m \u001b[38;5;66;03m# this function, and just call forward.\u001b[39;00m\n\u001b[1;32m   1128\u001b[0m \u001b[38;5;28;01mif\u001b[39;00m \u001b[38;5;129;01mnot\u001b[39;00m (\u001b[38;5;28mself\u001b[39m\u001b[38;5;241m.\u001b[39m_backward_hooks \u001b[38;5;129;01mor\u001b[39;00m \u001b[38;5;28mself\u001b[39m\u001b[38;5;241m.\u001b[39m_forward_hooks \u001b[38;5;129;01mor\u001b[39;00m \u001b[38;5;28mself\u001b[39m\u001b[38;5;241m.\u001b[39m_forward_pre_hooks \u001b[38;5;129;01mor\u001b[39;00m _global_backward_hooks\n\u001b[1;32m   1129\u001b[0m         \u001b[38;5;129;01mor\u001b[39;00m _global_forward_hooks \u001b[38;5;129;01mor\u001b[39;00m _global_forward_pre_hooks):\n\u001b[0;32m-> 1130\u001b[0m     \u001b[38;5;28;01mreturn\u001b[39;00m \u001b[43mforward_call\u001b[49m\u001b[43m(\u001b[49m\u001b[38;5;241;43m*\u001b[39;49m\u001b[38;5;28;43minput\u001b[39;49m\u001b[43m,\u001b[49m\u001b[43m \u001b[49m\u001b[38;5;241;43m*\u001b[39;49m\u001b[38;5;241;43m*\u001b[39;49m\u001b[43mkwargs\u001b[49m\u001b[43m)\u001b[49m\n\u001b[1;32m   1131\u001b[0m \u001b[38;5;66;03m# Do not call functions when jit is used\u001b[39;00m\n\u001b[1;32m   1132\u001b[0m full_backward_hooks, non_full_backward_hooks \u001b[38;5;241m=\u001b[39m [], []\n",
      "File \u001b[0;32m~/opt/anaconda3/envs/Tensorflow/lib/python3.8/site-packages/transformers/models/bert/modeling_bert.py:1552\u001b[0m, in \u001b[0;36mBertForSequenceClassification.forward\u001b[0;34m(self, input_ids, attention_mask, token_type_ids, position_ids, head_mask, inputs_embeds, labels, output_attentions, output_hidden_states, return_dict)\u001b[0m\n\u001b[1;32m   1544\u001b[0m \u001b[38;5;124mr\u001b[39m\u001b[38;5;124;03m\"\"\"\u001b[39;00m\n\u001b[1;32m   1545\u001b[0m \u001b[38;5;124;03mlabels (`torch.LongTensor` of shape `(batch_size,)`, *optional*):\u001b[39;00m\n\u001b[1;32m   1546\u001b[0m \u001b[38;5;124;03m    Labels for computing the sequence classification/regression loss. Indices should be in `[0, ...,\u001b[39;00m\n\u001b[1;32m   1547\u001b[0m \u001b[38;5;124;03m    config.num_labels - 1]`. If `config.num_labels == 1` a regression loss is computed (Mean-Square loss), If\u001b[39;00m\n\u001b[1;32m   1548\u001b[0m \u001b[38;5;124;03m    `config.num_labels > 1` a classification loss is computed (Cross-Entropy).\u001b[39;00m\n\u001b[1;32m   1549\u001b[0m \u001b[38;5;124;03m\"\"\"\u001b[39;00m\n\u001b[1;32m   1550\u001b[0m return_dict \u001b[38;5;241m=\u001b[39m return_dict \u001b[38;5;28;01mif\u001b[39;00m return_dict \u001b[38;5;129;01mis\u001b[39;00m \u001b[38;5;129;01mnot\u001b[39;00m \u001b[38;5;28;01mNone\u001b[39;00m \u001b[38;5;28;01melse\u001b[39;00m \u001b[38;5;28mself\u001b[39m\u001b[38;5;241m.\u001b[39mconfig\u001b[38;5;241m.\u001b[39muse_return_dict\n\u001b[0;32m-> 1552\u001b[0m outputs \u001b[38;5;241m=\u001b[39m \u001b[38;5;28;43mself\u001b[39;49m\u001b[38;5;241;43m.\u001b[39;49m\u001b[43mbert\u001b[49m\u001b[43m(\u001b[49m\n\u001b[1;32m   1553\u001b[0m \u001b[43m    \u001b[49m\u001b[43minput_ids\u001b[49m\u001b[43m,\u001b[49m\n\u001b[1;32m   1554\u001b[0m \u001b[43m    \u001b[49m\u001b[43mattention_mask\u001b[49m\u001b[38;5;241;43m=\u001b[39;49m\u001b[43mattention_mask\u001b[49m\u001b[43m,\u001b[49m\n\u001b[1;32m   1555\u001b[0m \u001b[43m    \u001b[49m\u001b[43mtoken_type_ids\u001b[49m\u001b[38;5;241;43m=\u001b[39;49m\u001b[43mtoken_type_ids\u001b[49m\u001b[43m,\u001b[49m\n\u001b[1;32m   1556\u001b[0m \u001b[43m    \u001b[49m\u001b[43mposition_ids\u001b[49m\u001b[38;5;241;43m=\u001b[39;49m\u001b[43mposition_ids\u001b[49m\u001b[43m,\u001b[49m\n\u001b[1;32m   1557\u001b[0m \u001b[43m    \u001b[49m\u001b[43mhead_mask\u001b[49m\u001b[38;5;241;43m=\u001b[39;49m\u001b[43mhead_mask\u001b[49m\u001b[43m,\u001b[49m\n\u001b[1;32m   1558\u001b[0m \u001b[43m    \u001b[49m\u001b[43minputs_embeds\u001b[49m\u001b[38;5;241;43m=\u001b[39;49m\u001b[43minputs_embeds\u001b[49m\u001b[43m,\u001b[49m\n\u001b[1;32m   1559\u001b[0m \u001b[43m    \u001b[49m\u001b[43moutput_attentions\u001b[49m\u001b[38;5;241;43m=\u001b[39;49m\u001b[43moutput_attentions\u001b[49m\u001b[43m,\u001b[49m\n\u001b[1;32m   1560\u001b[0m \u001b[43m    \u001b[49m\u001b[43moutput_hidden_states\u001b[49m\u001b[38;5;241;43m=\u001b[39;49m\u001b[43moutput_hidden_states\u001b[49m\u001b[43m,\u001b[49m\n\u001b[1;32m   1561\u001b[0m \u001b[43m    \u001b[49m\u001b[43mreturn_dict\u001b[49m\u001b[38;5;241;43m=\u001b[39;49m\u001b[43mreturn_dict\u001b[49m\u001b[43m,\u001b[49m\n\u001b[1;32m   1562\u001b[0m \u001b[43m\u001b[49m\u001b[43m)\u001b[49m\n\u001b[1;32m   1564\u001b[0m pooled_output \u001b[38;5;241m=\u001b[39m outputs[\u001b[38;5;241m1\u001b[39m]\n\u001b[1;32m   1566\u001b[0m pooled_output \u001b[38;5;241m=\u001b[39m \u001b[38;5;28mself\u001b[39m\u001b[38;5;241m.\u001b[39mdropout(pooled_output)\n",
      "File \u001b[0;32m~/opt/anaconda3/envs/Tensorflow/lib/python3.8/site-packages/torch/nn/modules/module.py:1130\u001b[0m, in \u001b[0;36mModule._call_impl\u001b[0;34m(self, *input, **kwargs)\u001b[0m\n\u001b[1;32m   1126\u001b[0m \u001b[38;5;66;03m# If we don't have any hooks, we want to skip the rest of the logic in\u001b[39;00m\n\u001b[1;32m   1127\u001b[0m \u001b[38;5;66;03m# this function, and just call forward.\u001b[39;00m\n\u001b[1;32m   1128\u001b[0m \u001b[38;5;28;01mif\u001b[39;00m \u001b[38;5;129;01mnot\u001b[39;00m (\u001b[38;5;28mself\u001b[39m\u001b[38;5;241m.\u001b[39m_backward_hooks \u001b[38;5;129;01mor\u001b[39;00m \u001b[38;5;28mself\u001b[39m\u001b[38;5;241m.\u001b[39m_forward_hooks \u001b[38;5;129;01mor\u001b[39;00m \u001b[38;5;28mself\u001b[39m\u001b[38;5;241m.\u001b[39m_forward_pre_hooks \u001b[38;5;129;01mor\u001b[39;00m _global_backward_hooks\n\u001b[1;32m   1129\u001b[0m         \u001b[38;5;129;01mor\u001b[39;00m _global_forward_hooks \u001b[38;5;129;01mor\u001b[39;00m _global_forward_pre_hooks):\n\u001b[0;32m-> 1130\u001b[0m     \u001b[38;5;28;01mreturn\u001b[39;00m \u001b[43mforward_call\u001b[49m\u001b[43m(\u001b[49m\u001b[38;5;241;43m*\u001b[39;49m\u001b[38;5;28;43minput\u001b[39;49m\u001b[43m,\u001b[49m\u001b[43m \u001b[49m\u001b[38;5;241;43m*\u001b[39;49m\u001b[38;5;241;43m*\u001b[39;49m\u001b[43mkwargs\u001b[49m\u001b[43m)\u001b[49m\n\u001b[1;32m   1131\u001b[0m \u001b[38;5;66;03m# Do not call functions when jit is used\u001b[39;00m\n\u001b[1;32m   1132\u001b[0m full_backward_hooks, non_full_backward_hooks \u001b[38;5;241m=\u001b[39m [], []\n",
      "File \u001b[0;32m~/opt/anaconda3/envs/Tensorflow/lib/python3.8/site-packages/transformers/models/bert/modeling_bert.py:1014\u001b[0m, in \u001b[0;36mBertModel.forward\u001b[0;34m(self, input_ids, attention_mask, token_type_ids, position_ids, head_mask, inputs_embeds, encoder_hidden_states, encoder_attention_mask, past_key_values, use_cache, output_attentions, output_hidden_states, return_dict)\u001b[0m\n\u001b[1;32m   1005\u001b[0m head_mask \u001b[38;5;241m=\u001b[39m \u001b[38;5;28mself\u001b[39m\u001b[38;5;241m.\u001b[39mget_head_mask(head_mask, \u001b[38;5;28mself\u001b[39m\u001b[38;5;241m.\u001b[39mconfig\u001b[38;5;241m.\u001b[39mnum_hidden_layers)\n\u001b[1;32m   1007\u001b[0m embedding_output \u001b[38;5;241m=\u001b[39m \u001b[38;5;28mself\u001b[39m\u001b[38;5;241m.\u001b[39membeddings(\n\u001b[1;32m   1008\u001b[0m     input_ids\u001b[38;5;241m=\u001b[39minput_ids,\n\u001b[1;32m   1009\u001b[0m     position_ids\u001b[38;5;241m=\u001b[39mposition_ids,\n\u001b[0;32m   (...)\u001b[0m\n\u001b[1;32m   1012\u001b[0m     past_key_values_length\u001b[38;5;241m=\u001b[39mpast_key_values_length,\n\u001b[1;32m   1013\u001b[0m )\n\u001b[0;32m-> 1014\u001b[0m encoder_outputs \u001b[38;5;241m=\u001b[39m \u001b[38;5;28;43mself\u001b[39;49m\u001b[38;5;241;43m.\u001b[39;49m\u001b[43mencoder\u001b[49m\u001b[43m(\u001b[49m\n\u001b[1;32m   1015\u001b[0m \u001b[43m    \u001b[49m\u001b[43membedding_output\u001b[49m\u001b[43m,\u001b[49m\n\u001b[1;32m   1016\u001b[0m \u001b[43m    \u001b[49m\u001b[43mattention_mask\u001b[49m\u001b[38;5;241;43m=\u001b[39;49m\u001b[43mextended_attention_mask\u001b[49m\u001b[43m,\u001b[49m\n\u001b[1;32m   1017\u001b[0m \u001b[43m    \u001b[49m\u001b[43mhead_mask\u001b[49m\u001b[38;5;241;43m=\u001b[39;49m\u001b[43mhead_mask\u001b[49m\u001b[43m,\u001b[49m\n\u001b[1;32m   1018\u001b[0m \u001b[43m    \u001b[49m\u001b[43mencoder_hidden_states\u001b[49m\u001b[38;5;241;43m=\u001b[39;49m\u001b[43mencoder_hidden_states\u001b[49m\u001b[43m,\u001b[49m\n\u001b[1;32m   1019\u001b[0m \u001b[43m    \u001b[49m\u001b[43mencoder_attention_mask\u001b[49m\u001b[38;5;241;43m=\u001b[39;49m\u001b[43mencoder_extended_attention_mask\u001b[49m\u001b[43m,\u001b[49m\n\u001b[1;32m   1020\u001b[0m \u001b[43m    \u001b[49m\u001b[43mpast_key_values\u001b[49m\u001b[38;5;241;43m=\u001b[39;49m\u001b[43mpast_key_values\u001b[49m\u001b[43m,\u001b[49m\n\u001b[1;32m   1021\u001b[0m \u001b[43m    \u001b[49m\u001b[43muse_cache\u001b[49m\u001b[38;5;241;43m=\u001b[39;49m\u001b[43muse_cache\u001b[49m\u001b[43m,\u001b[49m\n\u001b[1;32m   1022\u001b[0m \u001b[43m    \u001b[49m\u001b[43moutput_attentions\u001b[49m\u001b[38;5;241;43m=\u001b[39;49m\u001b[43moutput_attentions\u001b[49m\u001b[43m,\u001b[49m\n\u001b[1;32m   1023\u001b[0m \u001b[43m    \u001b[49m\u001b[43moutput_hidden_states\u001b[49m\u001b[38;5;241;43m=\u001b[39;49m\u001b[43moutput_hidden_states\u001b[49m\u001b[43m,\u001b[49m\n\u001b[1;32m   1024\u001b[0m \u001b[43m    \u001b[49m\u001b[43mreturn_dict\u001b[49m\u001b[38;5;241;43m=\u001b[39;49m\u001b[43mreturn_dict\u001b[49m\u001b[43m,\u001b[49m\n\u001b[1;32m   1025\u001b[0m \u001b[43m\u001b[49m\u001b[43m)\u001b[49m\n\u001b[1;32m   1026\u001b[0m sequence_output \u001b[38;5;241m=\u001b[39m encoder_outputs[\u001b[38;5;241m0\u001b[39m]\n\u001b[1;32m   1027\u001b[0m pooled_output \u001b[38;5;241m=\u001b[39m \u001b[38;5;28mself\u001b[39m\u001b[38;5;241m.\u001b[39mpooler(sequence_output) \u001b[38;5;28;01mif\u001b[39;00m \u001b[38;5;28mself\u001b[39m\u001b[38;5;241m.\u001b[39mpooler \u001b[38;5;129;01mis\u001b[39;00m \u001b[38;5;129;01mnot\u001b[39;00m \u001b[38;5;28;01mNone\u001b[39;00m \u001b[38;5;28;01melse\u001b[39;00m \u001b[38;5;28;01mNone\u001b[39;00m\n",
      "File \u001b[0;32m~/opt/anaconda3/envs/Tensorflow/lib/python3.8/site-packages/torch/nn/modules/module.py:1130\u001b[0m, in \u001b[0;36mModule._call_impl\u001b[0;34m(self, *input, **kwargs)\u001b[0m\n\u001b[1;32m   1126\u001b[0m \u001b[38;5;66;03m# If we don't have any hooks, we want to skip the rest of the logic in\u001b[39;00m\n\u001b[1;32m   1127\u001b[0m \u001b[38;5;66;03m# this function, and just call forward.\u001b[39;00m\n\u001b[1;32m   1128\u001b[0m \u001b[38;5;28;01mif\u001b[39;00m \u001b[38;5;129;01mnot\u001b[39;00m (\u001b[38;5;28mself\u001b[39m\u001b[38;5;241m.\u001b[39m_backward_hooks \u001b[38;5;129;01mor\u001b[39;00m \u001b[38;5;28mself\u001b[39m\u001b[38;5;241m.\u001b[39m_forward_hooks \u001b[38;5;129;01mor\u001b[39;00m \u001b[38;5;28mself\u001b[39m\u001b[38;5;241m.\u001b[39m_forward_pre_hooks \u001b[38;5;129;01mor\u001b[39;00m _global_backward_hooks\n\u001b[1;32m   1129\u001b[0m         \u001b[38;5;129;01mor\u001b[39;00m _global_forward_hooks \u001b[38;5;129;01mor\u001b[39;00m _global_forward_pre_hooks):\n\u001b[0;32m-> 1130\u001b[0m     \u001b[38;5;28;01mreturn\u001b[39;00m \u001b[43mforward_call\u001b[49m\u001b[43m(\u001b[49m\u001b[38;5;241;43m*\u001b[39;49m\u001b[38;5;28;43minput\u001b[39;49m\u001b[43m,\u001b[49m\u001b[43m \u001b[49m\u001b[38;5;241;43m*\u001b[39;49m\u001b[38;5;241;43m*\u001b[39;49m\u001b[43mkwargs\u001b[49m\u001b[43m)\u001b[49m\n\u001b[1;32m   1131\u001b[0m \u001b[38;5;66;03m# Do not call functions when jit is used\u001b[39;00m\n\u001b[1;32m   1132\u001b[0m full_backward_hooks, non_full_backward_hooks \u001b[38;5;241m=\u001b[39m [], []\n",
      "File \u001b[0;32m~/opt/anaconda3/envs/Tensorflow/lib/python3.8/site-packages/transformers/models/bert/modeling_bert.py:603\u001b[0m, in \u001b[0;36mBertEncoder.forward\u001b[0;34m(self, hidden_states, attention_mask, head_mask, encoder_hidden_states, encoder_attention_mask, past_key_values, use_cache, output_attentions, output_hidden_states, return_dict)\u001b[0m\n\u001b[1;32m    594\u001b[0m     layer_outputs \u001b[38;5;241m=\u001b[39m torch\u001b[38;5;241m.\u001b[39mutils\u001b[38;5;241m.\u001b[39mcheckpoint\u001b[38;5;241m.\u001b[39mcheckpoint(\n\u001b[1;32m    595\u001b[0m         create_custom_forward(layer_module),\n\u001b[1;32m    596\u001b[0m         hidden_states,\n\u001b[0;32m   (...)\u001b[0m\n\u001b[1;32m    600\u001b[0m         encoder_attention_mask,\n\u001b[1;32m    601\u001b[0m     )\n\u001b[1;32m    602\u001b[0m \u001b[38;5;28;01melse\u001b[39;00m:\n\u001b[0;32m--> 603\u001b[0m     layer_outputs \u001b[38;5;241m=\u001b[39m \u001b[43mlayer_module\u001b[49m\u001b[43m(\u001b[49m\n\u001b[1;32m    604\u001b[0m \u001b[43m        \u001b[49m\u001b[43mhidden_states\u001b[49m\u001b[43m,\u001b[49m\n\u001b[1;32m    605\u001b[0m \u001b[43m        \u001b[49m\u001b[43mattention_mask\u001b[49m\u001b[43m,\u001b[49m\n\u001b[1;32m    606\u001b[0m \u001b[43m        \u001b[49m\u001b[43mlayer_head_mask\u001b[49m\u001b[43m,\u001b[49m\n\u001b[1;32m    607\u001b[0m \u001b[43m        \u001b[49m\u001b[43mencoder_hidden_states\u001b[49m\u001b[43m,\u001b[49m\n\u001b[1;32m    608\u001b[0m \u001b[43m        \u001b[49m\u001b[43mencoder_attention_mask\u001b[49m\u001b[43m,\u001b[49m\n\u001b[1;32m    609\u001b[0m \u001b[43m        \u001b[49m\u001b[43mpast_key_value\u001b[49m\u001b[43m,\u001b[49m\n\u001b[1;32m    610\u001b[0m \u001b[43m        \u001b[49m\u001b[43moutput_attentions\u001b[49m\u001b[43m,\u001b[49m\n\u001b[1;32m    611\u001b[0m \u001b[43m    \u001b[49m\u001b[43m)\u001b[49m\n\u001b[1;32m    613\u001b[0m hidden_states \u001b[38;5;241m=\u001b[39m layer_outputs[\u001b[38;5;241m0\u001b[39m]\n\u001b[1;32m    614\u001b[0m \u001b[38;5;28;01mif\u001b[39;00m use_cache:\n",
      "File \u001b[0;32m~/opt/anaconda3/envs/Tensorflow/lib/python3.8/site-packages/torch/nn/modules/module.py:1130\u001b[0m, in \u001b[0;36mModule._call_impl\u001b[0;34m(self, *input, **kwargs)\u001b[0m\n\u001b[1;32m   1126\u001b[0m \u001b[38;5;66;03m# If we don't have any hooks, we want to skip the rest of the logic in\u001b[39;00m\n\u001b[1;32m   1127\u001b[0m \u001b[38;5;66;03m# this function, and just call forward.\u001b[39;00m\n\u001b[1;32m   1128\u001b[0m \u001b[38;5;28;01mif\u001b[39;00m \u001b[38;5;129;01mnot\u001b[39;00m (\u001b[38;5;28mself\u001b[39m\u001b[38;5;241m.\u001b[39m_backward_hooks \u001b[38;5;129;01mor\u001b[39;00m \u001b[38;5;28mself\u001b[39m\u001b[38;5;241m.\u001b[39m_forward_hooks \u001b[38;5;129;01mor\u001b[39;00m \u001b[38;5;28mself\u001b[39m\u001b[38;5;241m.\u001b[39m_forward_pre_hooks \u001b[38;5;129;01mor\u001b[39;00m _global_backward_hooks\n\u001b[1;32m   1129\u001b[0m         \u001b[38;5;129;01mor\u001b[39;00m _global_forward_hooks \u001b[38;5;129;01mor\u001b[39;00m _global_forward_pre_hooks):\n\u001b[0;32m-> 1130\u001b[0m     \u001b[38;5;28;01mreturn\u001b[39;00m \u001b[43mforward_call\u001b[49m\u001b[43m(\u001b[49m\u001b[38;5;241;43m*\u001b[39;49m\u001b[38;5;28;43minput\u001b[39;49m\u001b[43m,\u001b[49m\u001b[43m \u001b[49m\u001b[38;5;241;43m*\u001b[39;49m\u001b[38;5;241;43m*\u001b[39;49m\u001b[43mkwargs\u001b[49m\u001b[43m)\u001b[49m\n\u001b[1;32m   1131\u001b[0m \u001b[38;5;66;03m# Do not call functions when jit is used\u001b[39;00m\n\u001b[1;32m   1132\u001b[0m full_backward_hooks, non_full_backward_hooks \u001b[38;5;241m=\u001b[39m [], []\n",
      "File \u001b[0;32m~/opt/anaconda3/envs/Tensorflow/lib/python3.8/site-packages/transformers/models/bert/modeling_bert.py:531\u001b[0m, in \u001b[0;36mBertLayer.forward\u001b[0;34m(self, hidden_states, attention_mask, head_mask, encoder_hidden_states, encoder_attention_mask, past_key_value, output_attentions)\u001b[0m\n\u001b[1;32m    528\u001b[0m     cross_attn_present_key_value \u001b[38;5;241m=\u001b[39m cross_attention_outputs[\u001b[38;5;241m-\u001b[39m\u001b[38;5;241m1\u001b[39m]\n\u001b[1;32m    529\u001b[0m     present_key_value \u001b[38;5;241m=\u001b[39m present_key_value \u001b[38;5;241m+\u001b[39m cross_attn_present_key_value\n\u001b[0;32m--> 531\u001b[0m layer_output \u001b[38;5;241m=\u001b[39m \u001b[43mapply_chunking_to_forward\u001b[49m\u001b[43m(\u001b[49m\n\u001b[1;32m    532\u001b[0m \u001b[43m    \u001b[49m\u001b[38;5;28;43mself\u001b[39;49m\u001b[38;5;241;43m.\u001b[39;49m\u001b[43mfeed_forward_chunk\u001b[49m\u001b[43m,\u001b[49m\u001b[43m \u001b[49m\u001b[38;5;28;43mself\u001b[39;49m\u001b[38;5;241;43m.\u001b[39;49m\u001b[43mchunk_size_feed_forward\u001b[49m\u001b[43m,\u001b[49m\u001b[43m \u001b[49m\u001b[38;5;28;43mself\u001b[39;49m\u001b[38;5;241;43m.\u001b[39;49m\u001b[43mseq_len_dim\u001b[49m\u001b[43m,\u001b[49m\u001b[43m \u001b[49m\u001b[43mattention_output\u001b[49m\n\u001b[1;32m    533\u001b[0m \u001b[43m\u001b[49m\u001b[43m)\u001b[49m\n\u001b[1;32m    534\u001b[0m outputs \u001b[38;5;241m=\u001b[39m (layer_output,) \u001b[38;5;241m+\u001b[39m outputs\n\u001b[1;32m    536\u001b[0m \u001b[38;5;66;03m# if decoder, return the attn key/values as the last output\u001b[39;00m\n",
      "File \u001b[0;32m~/opt/anaconda3/envs/Tensorflow/lib/python3.8/site-packages/transformers/pytorch_utils.py:246\u001b[0m, in \u001b[0;36mapply_chunking_to_forward\u001b[0;34m(forward_fn, chunk_size, chunk_dim, *input_tensors)\u001b[0m\n\u001b[1;32m    243\u001b[0m     \u001b[38;5;66;03m# concatenate output at same dimension\u001b[39;00m\n\u001b[1;32m    244\u001b[0m     \u001b[38;5;28;01mreturn\u001b[39;00m torch\u001b[38;5;241m.\u001b[39mcat(output_chunks, dim\u001b[38;5;241m=\u001b[39mchunk_dim)\n\u001b[0;32m--> 246\u001b[0m \u001b[38;5;28;01mreturn\u001b[39;00m \u001b[43mforward_fn\u001b[49m\u001b[43m(\u001b[49m\u001b[38;5;241;43m*\u001b[39;49m\u001b[43minput_tensors\u001b[49m\u001b[43m)\u001b[49m\n",
      "File \u001b[0;32m~/opt/anaconda3/envs/Tensorflow/lib/python3.8/site-packages/transformers/models/bert/modeling_bert.py:543\u001b[0m, in \u001b[0;36mBertLayer.feed_forward_chunk\u001b[0;34m(self, attention_output)\u001b[0m\n\u001b[1;32m    542\u001b[0m \u001b[38;5;28;01mdef\u001b[39;00m \u001b[38;5;21mfeed_forward_chunk\u001b[39m(\u001b[38;5;28mself\u001b[39m, attention_output):\n\u001b[0;32m--> 543\u001b[0m     intermediate_output \u001b[38;5;241m=\u001b[39m \u001b[38;5;28;43mself\u001b[39;49m\u001b[38;5;241;43m.\u001b[39;49m\u001b[43mintermediate\u001b[49m\u001b[43m(\u001b[49m\u001b[43mattention_output\u001b[49m\u001b[43m)\u001b[49m\n\u001b[1;32m    544\u001b[0m     layer_output \u001b[38;5;241m=\u001b[39m \u001b[38;5;28mself\u001b[39m\u001b[38;5;241m.\u001b[39moutput(intermediate_output, attention_output)\n\u001b[1;32m    545\u001b[0m     \u001b[38;5;28;01mreturn\u001b[39;00m layer_output\n",
      "File \u001b[0;32m~/opt/anaconda3/envs/Tensorflow/lib/python3.8/site-packages/torch/nn/modules/module.py:1130\u001b[0m, in \u001b[0;36mModule._call_impl\u001b[0;34m(self, *input, **kwargs)\u001b[0m\n\u001b[1;32m   1126\u001b[0m \u001b[38;5;66;03m# If we don't have any hooks, we want to skip the rest of the logic in\u001b[39;00m\n\u001b[1;32m   1127\u001b[0m \u001b[38;5;66;03m# this function, and just call forward.\u001b[39;00m\n\u001b[1;32m   1128\u001b[0m \u001b[38;5;28;01mif\u001b[39;00m \u001b[38;5;129;01mnot\u001b[39;00m (\u001b[38;5;28mself\u001b[39m\u001b[38;5;241m.\u001b[39m_backward_hooks \u001b[38;5;129;01mor\u001b[39;00m \u001b[38;5;28mself\u001b[39m\u001b[38;5;241m.\u001b[39m_forward_hooks \u001b[38;5;129;01mor\u001b[39;00m \u001b[38;5;28mself\u001b[39m\u001b[38;5;241m.\u001b[39m_forward_pre_hooks \u001b[38;5;129;01mor\u001b[39;00m _global_backward_hooks\n\u001b[1;32m   1129\u001b[0m         \u001b[38;5;129;01mor\u001b[39;00m _global_forward_hooks \u001b[38;5;129;01mor\u001b[39;00m _global_forward_pre_hooks):\n\u001b[0;32m-> 1130\u001b[0m     \u001b[38;5;28;01mreturn\u001b[39;00m \u001b[43mforward_call\u001b[49m\u001b[43m(\u001b[49m\u001b[38;5;241;43m*\u001b[39;49m\u001b[38;5;28;43minput\u001b[39;49m\u001b[43m,\u001b[49m\u001b[43m \u001b[49m\u001b[38;5;241;43m*\u001b[39;49m\u001b[38;5;241;43m*\u001b[39;49m\u001b[43mkwargs\u001b[49m\u001b[43m)\u001b[49m\n\u001b[1;32m   1131\u001b[0m \u001b[38;5;66;03m# Do not call functions when jit is used\u001b[39;00m\n\u001b[1;32m   1132\u001b[0m full_backward_hooks, non_full_backward_hooks \u001b[38;5;241m=\u001b[39m [], []\n",
      "File \u001b[0;32m~/opt/anaconda3/envs/Tensorflow/lib/python3.8/site-packages/transformers/models/bert/modeling_bert.py:443\u001b[0m, in \u001b[0;36mBertIntermediate.forward\u001b[0;34m(self, hidden_states)\u001b[0m\n\u001b[1;32m    442\u001b[0m \u001b[38;5;28;01mdef\u001b[39;00m \u001b[38;5;21mforward\u001b[39m(\u001b[38;5;28mself\u001b[39m, hidden_states: torch\u001b[38;5;241m.\u001b[39mTensor) \u001b[38;5;241m-\u001b[39m\u001b[38;5;241m>\u001b[39m torch\u001b[38;5;241m.\u001b[39mTensor:\n\u001b[0;32m--> 443\u001b[0m     hidden_states \u001b[38;5;241m=\u001b[39m \u001b[38;5;28;43mself\u001b[39;49m\u001b[38;5;241;43m.\u001b[39;49m\u001b[43mdense\u001b[49m\u001b[43m(\u001b[49m\u001b[43mhidden_states\u001b[49m\u001b[43m)\u001b[49m\n\u001b[1;32m    444\u001b[0m     hidden_states \u001b[38;5;241m=\u001b[39m \u001b[38;5;28mself\u001b[39m\u001b[38;5;241m.\u001b[39mintermediate_act_fn(hidden_states)\n\u001b[1;32m    445\u001b[0m     \u001b[38;5;28;01mreturn\u001b[39;00m hidden_states\n",
      "File \u001b[0;32m~/opt/anaconda3/envs/Tensorflow/lib/python3.8/site-packages/torch/nn/modules/module.py:1130\u001b[0m, in \u001b[0;36mModule._call_impl\u001b[0;34m(self, *input, **kwargs)\u001b[0m\n\u001b[1;32m   1126\u001b[0m \u001b[38;5;66;03m# If we don't have any hooks, we want to skip the rest of the logic in\u001b[39;00m\n\u001b[1;32m   1127\u001b[0m \u001b[38;5;66;03m# this function, and just call forward.\u001b[39;00m\n\u001b[1;32m   1128\u001b[0m \u001b[38;5;28;01mif\u001b[39;00m \u001b[38;5;129;01mnot\u001b[39;00m (\u001b[38;5;28mself\u001b[39m\u001b[38;5;241m.\u001b[39m_backward_hooks \u001b[38;5;129;01mor\u001b[39;00m \u001b[38;5;28mself\u001b[39m\u001b[38;5;241m.\u001b[39m_forward_hooks \u001b[38;5;129;01mor\u001b[39;00m \u001b[38;5;28mself\u001b[39m\u001b[38;5;241m.\u001b[39m_forward_pre_hooks \u001b[38;5;129;01mor\u001b[39;00m _global_backward_hooks\n\u001b[1;32m   1129\u001b[0m         \u001b[38;5;129;01mor\u001b[39;00m _global_forward_hooks \u001b[38;5;129;01mor\u001b[39;00m _global_forward_pre_hooks):\n\u001b[0;32m-> 1130\u001b[0m     \u001b[38;5;28;01mreturn\u001b[39;00m \u001b[43mforward_call\u001b[49m\u001b[43m(\u001b[49m\u001b[38;5;241;43m*\u001b[39;49m\u001b[38;5;28;43minput\u001b[39;49m\u001b[43m,\u001b[49m\u001b[43m \u001b[49m\u001b[38;5;241;43m*\u001b[39;49m\u001b[38;5;241;43m*\u001b[39;49m\u001b[43mkwargs\u001b[49m\u001b[43m)\u001b[49m\n\u001b[1;32m   1131\u001b[0m \u001b[38;5;66;03m# Do not call functions when jit is used\u001b[39;00m\n\u001b[1;32m   1132\u001b[0m full_backward_hooks, non_full_backward_hooks \u001b[38;5;241m=\u001b[39m [], []\n",
      "File \u001b[0;32m~/opt/anaconda3/envs/Tensorflow/lib/python3.8/site-packages/torch/nn/modules/linear.py:114\u001b[0m, in \u001b[0;36mLinear.forward\u001b[0;34m(self, input)\u001b[0m\n\u001b[1;32m    113\u001b[0m \u001b[38;5;28;01mdef\u001b[39;00m \u001b[38;5;21mforward\u001b[39m(\u001b[38;5;28mself\u001b[39m, \u001b[38;5;28minput\u001b[39m: Tensor) \u001b[38;5;241m-\u001b[39m\u001b[38;5;241m>\u001b[39m Tensor:\n\u001b[0;32m--> 114\u001b[0m     \u001b[38;5;28;01mreturn\u001b[39;00m \u001b[43mF\u001b[49m\u001b[38;5;241;43m.\u001b[39;49m\u001b[43mlinear\u001b[49m\u001b[43m(\u001b[49m\u001b[38;5;28;43minput\u001b[39;49m\u001b[43m,\u001b[49m\u001b[43m \u001b[49m\u001b[38;5;28;43mself\u001b[39;49m\u001b[38;5;241;43m.\u001b[39;49m\u001b[43mweight\u001b[49m\u001b[43m,\u001b[49m\u001b[43m \u001b[49m\u001b[38;5;28;43mself\u001b[39;49m\u001b[38;5;241;43m.\u001b[39;49m\u001b[43mbias\u001b[49m\u001b[43m)\u001b[49m\n",
      "\u001b[0;31mKeyboardInterrupt\u001b[0m: "
     ]
    }
   ],
   "source": [
    "sent_values = []\n",
    "\n",
    "for x in visa_x:\n",
    "    inputs = tokenizer(x, return_tensors=\"pt\", padding=True)\n",
    "    outputs = finbert(**inputs)[0]\n",
    "   \n",
    "    val = labels[np.argmax(outputs.detach().numpy())]\n",
    "    #print(x, '----', val)\n",
    "    #print('#######################################################')    \n",
    "    sent_values.append(val)"
   ]
  },
  {
   "cell_type": "code",
   "execution_count": null,
   "id": "a782f037",
   "metadata": {},
   "outputs": [],
   "source": [
    "print(sent_values)"
   ]
  },
  {
   "cell_type": "code",
   "execution_count": 17,
   "id": "334e1fcc",
   "metadata": {},
   "outputs": [
    {
     "data": {
      "text/plain": [
       "Datetime\n",
       "2023-01-01 23:59:58+00:00    im alr over my limit 4 2day by a bit(40ish cal...\n",
       "2023-01-01 23:59:58+00:00    Sauerkraut w/onions &amp; apples cooked in @GL...\n",
       "2023-01-01 23:59:55+00:00             @kir1ca Appleギフトカードを10%還元される所で買う所から書かないと\n",
       "2023-01-01 23:59:53+00:00    1/2~3 Appleの初売り✨️\\n\\n楽天リーベイツから購入で5%還元‼️\\n➭http...\n",
       "2023-01-01 23:59:49+00:00    Pork chop, smothered cabbage, black eyed peas,...\n",
       "                                                   ...                        \n",
       "2023-03-31 23:59:47+00:00    @KiranKSGatsby @letscinema Disney is just gene...\n",
       "2023-03-31 23:59:47+00:00    Bro next time just ask them to cut the apple f...\n",
       "2023-03-31 23:59:46+00:00    @Ivarpi Hmm. Syns inte i Pocket Casts. (Apples...\n",
       "2023-03-31 23:59:46+00:00    Apple Music Classicalの立ち上げが話題。クラシックのサブスクの最大問題は...\n",
       "2023-03-31 23:59:42+00:00                   @Apple_1234321 ( ﾟдﾟ)ﾊｯ!ｲﾀ━(ﾟ∀ﾟ)━!\n",
       "Name: Text, Length: 990, dtype: object"
      ]
     },
     "execution_count": 17,
     "metadata": {},
     "output_type": "execute_result"
    }
   ],
   "source": [
    "apple_x = apple_tweets['Text']\n",
    "apple_x"
   ]
  },
  {
   "cell_type": "code",
   "execution_count": 18,
   "id": "c01a9d09",
   "metadata": {},
   "outputs": [],
   "source": [
    "from datetime import *"
   ]
  },
  {
   "cell_type": "code",
   "execution_count": null,
   "id": "eb7c48bf",
   "metadata": {},
   "outputs": [],
   "source": [
    "apple_sent_values = []\n",
    "\n",
    "time1 = datetime.now()\n",
    "for x in apple_x:\n",
    "    inputs = tokenizer(x, return_tensors=\"pt\", padding=True)\n",
    "    outputs = finbert(**inputs)[0]\n",
    "   \n",
    "    val = labels[np.argmax(outputs.detach().numpy())]\n",
    "    #print(x, '----', val)\n",
    "    #print('#######################################################')    \n",
    "    apple_sent_values.append(val)\n",
    "    \n",
    "time2 = datetime.now()\n",
    "print(time2-time1)"
   ]
  },
  {
   "cell_type": "code",
   "execution_count": 19,
   "id": "9e7654a5",
   "metadata": {},
   "outputs": [],
   "source": [
    "ms_x = microsoft_tweets['Text']\n",
    "amazon_x = amazon_tweets['Text']\n",
    "nvidia_x = nvidia_tweets['Text']\n",
    "google_x = google_tweets['Text']\n",
    "brk_x = brk_tweets['Text']\n",
    "meta_x = meta_tweets['Text']\n",
    "exm_x = exxonmobil_tweets['Text']\n",
    "uhg_x = uhg_tweets['Text']\n",
    "tesla_x = tesla_tweets['Text']\n",
    "jj_x = jj_tweets['Text']\n",
    "jpm_x = jpm_tweets['Text']\n",
    "pg_x = pg_tweets['Text']"
   ]
  },
  {
   "cell_type": "code",
   "execution_count": null,
   "id": "cad52caf",
   "metadata": {},
   "outputs": [],
   "source": [
    "ms_sent_values = []\n",
    "for x in ms_x:\n",
    "    inputs = tokenizer(x, return_tensors=\"pt\", padding=True)\n",
    "    outputs = finbert(**inputs)[0]\n",
    "    val = labels[np.argmax(outputs.detach().numpy())] \n",
    "    ms_sent_values.append(val)"
   ]
  },
  {
   "cell_type": "code",
   "execution_count": null,
   "id": "edd0a52e",
   "metadata": {},
   "outputs": [],
   "source": [
    "amazon_sent_values = []\n",
    "for x in amazon_x:\n",
    "    inputs = tokenizer(x, return_tensors=\"pt\", padding=True)\n",
    "    outputs = finbert(**inputs)[0]\n",
    "    val = labels[np.argmax(outputs.detach().numpy())] \n",
    "    amazon_sent_values.append(val)"
   ]
  },
  {
   "cell_type": "code",
   "execution_count": null,
   "id": "510bcf91",
   "metadata": {},
   "outputs": [],
   "source": [
    "nvidia_sent_values = []\n",
    "for x in nvidia_x:\n",
    "    inputs = tokenizer(x, return_tensors=\"pt\", padding=True)\n",
    "    outputs = finbert(**inputs)[0]\n",
    "    val = labels[np.argmax(outputs.detach().numpy())] \n",
    "    nvidia_sent_values.append(val)\n",
    "    \n",
    "google_sent_values = []\n",
    "for x in google_x:\n",
    "    inputs = tokenizer(x, return_tensors=\"pt\", padding=True)\n",
    "    outputs = finbert(**inputs)[0]\n",
    "    val = labels[np.argmax(outputs.detach().numpy())] \n",
    "    google_sent_values.append(val)\n",
    "    \n",
    "brk_sent_values = []\n",
    "for x in brk_x:\n",
    "    inputs = tokenizer(x, return_tensors=\"pt\", padding=True)\n",
    "    outputs = finbert(**inputs)[0]\n",
    "    val = labels[np.argmax(outputs.detach().numpy())] \n",
    "    brk_sent_values.append(val)\n",
    "    \n",
    "meta_sent_values = []\n",
    "for x in meta_x:\n",
    "    inputs = tokenizer(x, return_tensors=\"pt\", padding=True)\n",
    "    outputs = finbert(**inputs)[0]\n",
    "    val = labels[np.argmax(outputs.detach().numpy())] \n",
    "    meta_sent_values.append(val)\n",
    "    \n",
    "exm_sent_values = []\n",
    "for x in exm_x:\n",
    "    inputs = tokenizer(x, return_tensors=\"pt\", padding=True)\n",
    "    outputs = finbert(**inputs)[0]\n",
    "    val = labels[np.argmax(outputs.detach().numpy())] \n",
    "    exm_sent_values.append(val)"
   ]
  },
  {
   "cell_type": "code",
   "execution_count": null,
   "id": "cfd2b2fe",
   "metadata": {},
   "outputs": [],
   "source": [
    "tesla_sent_values = []\n",
    "for x in tesla_x:\n",
    "    inputs = tokenizer(x, return_tensors=\"pt\", padding=True)\n",
    "    outputs = finbert(**inputs)[0]\n",
    "    val = labels[np.argmax(outputs.detach().numpy())] \n",
    "    tesla_sent_values.append(val)\n",
    "\n",
    "print(\"1: Complete\")\n",
    "\n",
    "jj_sent_values = []\n",
    "for x in jj_x:\n",
    "    inputs = tokenizer(x, return_tensors=\"pt\", padding=True)\n",
    "    outputs = finbert(**inputs)[0]\n",
    "    val = labels[np.argmax(outputs.detach().numpy())] \n",
    "    jj_sent_values.append(val)\n",
    "    \n",
    "print(\"2: Complete\")\n",
    "jpm_sent_values = []\n",
    "for x in jpm_x:\n",
    "    inputs = tokenizer(x, return_tensors=\"pt\", padding=True)\n",
    "    outputs = finbert(**inputs)[0]\n",
    "    val = labels[np.argmax(outputs.detach().numpy())] \n",
    "    jpm_sent_values.append(val)\n",
    "    \n",
    "print(\"3: Complete\")\n",
    "    \n",
    "pg_sent_values = []\n",
    "for x in pg_x:\n",
    "    inputs = tokenizer(x, return_tensors=\"pt\", padding=True)\n",
    "    outputs = finbert(**inputs)[0]\n",
    "    val = labels[np.argmax(outputs.detach().numpy())] \n",
    "    pg_sent_values.append(val)"
   ]
  },
  {
   "cell_type": "code",
   "execution_count": null,
   "id": "09dcd2fe",
   "metadata": {},
   "outputs": [],
   "source": [
    "visa_sent_values = sent_values"
   ]
  },
  {
   "cell_type": "code",
   "execution_count": null,
   "id": "6d0ff9c3",
   "metadata": {},
   "outputs": [],
   "source": [
    "jpm_sent_values"
   ]
  },
  {
   "cell_type": "code",
   "execution_count": null,
   "id": "2734bcc2",
   "metadata": {},
   "outputs": [],
   "source": [
    "uhg_sent_values = []\n",
    "for x in uhg_x:\n",
    "    inputs = tokenizer(x, return_tensors=\"pt\", padding=True, max_length=512,truncation=True)\n",
    "    outputs = finbert(**inputs)[0]\n",
    "    val = labels[np.argmax(outputs.detach().numpy())] \n",
    "    uhg_sent_values.append(val)"
   ]
  },
  {
   "cell_type": "code",
   "execution_count": null,
   "id": "f19bb54c",
   "metadata": {},
   "outputs": [],
   "source": [
    "pg_sent_values = []\n",
    "for x in pg_x:\n",
    "    inputs = tokenizer(x, return_tensors=\"pt\", padding=True, max_length=512, truncation=True)\n",
    "    outputs = finbert(**inputs)[0]\n",
    "    val = labels[np.argmax(outputs.detach().numpy())] \n",
    "    pg_sent_values.append(val)"
   ]
  },
  {
   "cell_type": "code",
   "execution_count": null,
   "id": "dc479905",
   "metadata": {},
   "outputs": [],
   "source": []
  },
  {
   "cell_type": "code",
   "execution_count": null,
   "id": "7a950fe0",
   "metadata": {},
   "outputs": [],
   "source": [
    "pg_tweets['Sentiment'] = pg_sent_values"
   ]
  },
  {
   "cell_type": "code",
   "execution_count": null,
   "id": "049fcbe7",
   "metadata": {},
   "outputs": [],
   "source": [
    "pg_tweets"
   ]
  },
  {
   "cell_type": "code",
   "execution_count": null,
   "id": "f927852d",
   "metadata": {},
   "outputs": [],
   "source": [
    "visa_tweets['Sentiment'] = visa_sent_values\n",
    "apple_tweets['Sentiment'] = apple_sent_values\n",
    "microsoft_tweets['Sentiment'] = ms_sent_values\n",
    "amazon_tweets['Sentiment'] = amazon_sent_values\n",
    "nvidia_tweets['Sentiment'] = nvidia_sent_values\n",
    "google_tweets['Sentiment'] = google_sent_values\n",
    "brk_tweets['Sentiment'] = brk_sent_values\n",
    "meta_tweets['Sentiment'] = meta_sent_values\n",
    "exxonmobil_tweets['Sentiment'] = exm_sent_values\n",
    "uhg_tweets['Sentiment'] = uhg_sent_values\n",
    "tesla_tweets['Sentiment'] = tesla_sent_values\n",
    "jj_tweets['Sentiment'] = jj_sent_values\n",
    "jpm_tweets['Sentiment'] = jpm_sent_values\n",
    "pg_tweets['Sentiment'] = pg_sent_values"
   ]
  },
  {
   "cell_type": "code",
   "execution_count": null,
   "id": "22860eb1",
   "metadata": {},
   "outputs": [],
   "source": [
    "len(jpm_tweets)"
   ]
  },
  {
   "cell_type": "code",
   "execution_count": null,
   "id": "7dcde815",
   "metadata": {},
   "outputs": [],
   "source": [
    "for i in range(len(jpm_tweets)):\n",
    "    if (jpm_tweets['Sentiment'][i] == 'neutral'):\n",
    "        jpm_tweets['Sentiment'][i] = 0\n",
    "    elif (jpm_tweets['Sentiment'][i] == 'negative'):\n",
    "        jpm_tweets['Sentiment'][i] = -1\n",
    "    elif (jpm_tweets['Sentiment'][i] == 'positive'):\n",
    "        jpm_tweets['Sentiment'][i] = 1\n",
    "        \n",
    "jpm_tweets"
   ]
  },
  {
   "cell_type": "code",
   "execution_count": null,
   "id": "2d7b7969",
   "metadata": {},
   "outputs": [],
   "source": [
    "def transform_sentiment(df_name):\n",
    "    for i in range(len(df_name)):\n",
    "        if (df_name['Sentiment'][i] == 'neutral'):\n",
    "            df_name['Sentiment'][i] = 0\n",
    "        elif (df_name['Sentiment'][i] == 'negative'):\n",
    "            df_name['Sentiment'][i] = -1\n",
    "        elif (df_name['Sentiment'][i] == 'positive'):\n",
    "            df_name['Sentiment'][i] = 1"
   ]
  },
  {
   "cell_type": "code",
   "execution_count": null,
   "id": "de949742",
   "metadata": {},
   "outputs": [],
   "source": [
    "transform_sentiment(jj_tweets)"
   ]
  },
  {
   "cell_type": "code",
   "execution_count": null,
   "id": "40a5ddcd",
   "metadata": {},
   "outputs": [],
   "source": [
    "jj_tweets"
   ]
  },
  {
   "cell_type": "code",
   "execution_count": null,
   "id": "49c33705",
   "metadata": {},
   "outputs": [],
   "source": [
    "companies_list_2 = [visa_tweets,apple_tweets,microsoft_tweets,amazon_tweets,nvidia_tweets,google_tweets,\n",
    "                    brk_tweets,meta_tweets,exxonmobil_tweets,uhg_tweets,tesla_tweets,jj_tweets,jpm_tweets,pg_tweets]"
   ]
  },
  {
   "cell_type": "code",
   "execution_count": null,
   "id": "93b6ef19",
   "metadata": {},
   "outputs": [],
   "source": [
    "for company in companies_list_2: \n",
    "    transform_sentiment(company)"
   ]
  },
  {
   "cell_type": "code",
   "execution_count": null,
   "id": "b76914ef",
   "metadata": {},
   "outputs": [],
   "source": [
    "tesla_tweets"
   ]
  },
  {
   "cell_type": "code",
   "execution_count": null,
   "id": "e53c23a5",
   "metadata": {},
   "outputs": [],
   "source": [
    "#Saving FinBert Sentiments\n",
    "def finbert_save_csv(dataset,dataset_name):\n",
    "    string = str(dataset_name)+'_finbert.csv'\n",
    "    \n",
    "    dataset.to_csv(string, index=True)"
   ]
  },
  {
   "cell_type": "code",
   "execution_count": null,
   "id": "a7a7c86c",
   "metadata": {},
   "outputs": [],
   "source": [
    "companies_list_3 = ['visa_tweets','apple_tweets','microsoft_tweets','amazon_tweets','nvidia_tweets','google_tweets',\n",
    "                    'brk_tweets','meta_tweets','exxonmobil_tweets','uhg_tweets','tesla_tweets','jj_tweets',\n",
    "                    'jpm_tweets','pg_tweets']\n",
    "\n",
    "for i in range(0, len(companies_list_2)): \n",
    "    finbert_save_csv(companies_list_2[i], companies_list_3[i])"
   ]
  },
  {
   "cell_type": "code",
   "execution_count": null,
   "id": "1261160b",
   "metadata": {},
   "outputs": [],
   "source": [
    "#Grabbing Market Performance for each stock"
   ]
  },
  {
   "cell_type": "code",
   "execution_count": 20,
   "id": "40998ec1",
   "metadata": {},
   "outputs": [],
   "source": [
    "from transformers import BertTokenizer, BertForSequenceClassification\n",
    "finbert = BertForSequenceClassification.from_pretrained('ProsusAI/finbert')\n",
    "tokenizer = BertTokenizer.from_pretrained('ProsusAI/finbert')"
   ]
  },
  {
   "cell_type": "code",
   "execution_count": 23,
   "id": "a6d04732",
   "metadata": {
    "scrolled": true
   },
   "outputs": [
    {
     "ename": "ValueError",
     "evalue": "text input must of type `str` (single example), `List[str]` (batch or single pretokenized example) or `List[List[str]]` (batch of pretokenized examples).",
     "output_type": "error",
     "traceback": [
      "\u001b[0;31m---------------------------------------------------------------------------\u001b[0m",
      "\u001b[0;31mValueError\u001b[0m                                Traceback (most recent call last)",
      "Input \u001b[0;32mIn [23]\u001b[0m, in \u001b[0;36m<cell line: 1>\u001b[0;34m()\u001b[0m\n\u001b[1;32m      1\u001b[0m \u001b[38;5;28;01mfor\u001b[39;00m x \u001b[38;5;129;01min\u001b[39;00m visa_x:\n\u001b[0;32m----> 2\u001b[0m     inputs \u001b[38;5;241m=\u001b[39m \u001b[43mtokenizer\u001b[49m\u001b[43m(\u001b[49m\u001b[43mvisa_x\u001b[49m\u001b[43m,\u001b[49m\u001b[43m \u001b[49m\u001b[43mpadding\u001b[49m\u001b[43m \u001b[49m\u001b[38;5;241;43m=\u001b[39;49m\u001b[43m \u001b[49m\u001b[38;5;28;43;01mTrue\u001b[39;49;00m\u001b[43m,\u001b[49m\u001b[43m \u001b[49m\u001b[43mtruncation\u001b[49m\u001b[43m \u001b[49m\u001b[38;5;241;43m=\u001b[39;49m\u001b[43m \u001b[49m\u001b[38;5;28;43;01mTrue\u001b[39;49;00m\u001b[43m,\u001b[49m\u001b[43m \u001b[49m\u001b[43mreturn_tensors\u001b[49m\u001b[38;5;241;43m=\u001b[39;49m\u001b[38;5;124;43m'\u001b[39;49m\u001b[38;5;124;43mpt\u001b[39;49m\u001b[38;5;124;43m'\u001b[39;49m\u001b[43m)\u001b[49m \u001b[38;5;66;03m#tokenize text to be sent to model\u001b[39;00m\n\u001b[1;32m      3\u001b[0m     outputs \u001b[38;5;241m=\u001b[39m finbert(\u001b[38;5;241m*\u001b[39m\u001b[38;5;241m*\u001b[39minputs)\n\u001b[1;32m      4\u001b[0m     predictions \u001b[38;5;241m=\u001b[39m torch\u001b[38;5;241m.\u001b[39mnn\u001b[38;5;241m.\u001b[39mfunctional\u001b[38;5;241m.\u001b[39msoftmax(outputs\u001b[38;5;241m.\u001b[39mlogits, dim\u001b[38;5;241m=\u001b[39m\u001b[38;5;241m-\u001b[39m\u001b[38;5;241m1\u001b[39m)\n",
      "File \u001b[0;32m~/opt/anaconda3/envs/Tensorflow/lib/python3.8/site-packages/transformers/tokenization_utils_base.py:2488\u001b[0m, in \u001b[0;36mPreTrainedTokenizerBase.__call__\u001b[0;34m(self, text, text_pair, text_target, text_pair_target, add_special_tokens, padding, truncation, max_length, stride, is_split_into_words, pad_to_multiple_of, return_tensors, return_token_type_ids, return_attention_mask, return_overflowing_tokens, return_special_tokens_mask, return_offsets_mapping, return_length, verbose, **kwargs)\u001b[0m\n\u001b[1;32m   2486\u001b[0m     \u001b[38;5;28;01mif\u001b[39;00m \u001b[38;5;129;01mnot\u001b[39;00m \u001b[38;5;28mself\u001b[39m\u001b[38;5;241m.\u001b[39m_in_target_context_manager:\n\u001b[1;32m   2487\u001b[0m         \u001b[38;5;28mself\u001b[39m\u001b[38;5;241m.\u001b[39m_switch_to_input_mode()\n\u001b[0;32m-> 2488\u001b[0m     encodings \u001b[38;5;241m=\u001b[39m \u001b[38;5;28;43mself\u001b[39;49m\u001b[38;5;241;43m.\u001b[39;49m\u001b[43m_call_one\u001b[49m\u001b[43m(\u001b[49m\u001b[43mtext\u001b[49m\u001b[38;5;241;43m=\u001b[39;49m\u001b[43mtext\u001b[49m\u001b[43m,\u001b[49m\u001b[43m \u001b[49m\u001b[43mtext_pair\u001b[49m\u001b[38;5;241;43m=\u001b[39;49m\u001b[43mtext_pair\u001b[49m\u001b[43m,\u001b[49m\u001b[43m \u001b[49m\u001b[38;5;241;43m*\u001b[39;49m\u001b[38;5;241;43m*\u001b[39;49m\u001b[43mall_kwargs\u001b[49m\u001b[43m)\u001b[49m\n\u001b[1;32m   2489\u001b[0m \u001b[38;5;28;01mif\u001b[39;00m text_target \u001b[38;5;129;01mis\u001b[39;00m \u001b[38;5;129;01mnot\u001b[39;00m \u001b[38;5;28;01mNone\u001b[39;00m:\n\u001b[1;32m   2490\u001b[0m     \u001b[38;5;28mself\u001b[39m\u001b[38;5;241m.\u001b[39m_switch_to_target_mode()\n",
      "File \u001b[0;32m~/opt/anaconda3/envs/Tensorflow/lib/python3.8/site-packages/transformers/tokenization_utils_base.py:2546\u001b[0m, in \u001b[0;36mPreTrainedTokenizerBase._call_one\u001b[0;34m(self, text, text_pair, add_special_tokens, padding, truncation, max_length, stride, is_split_into_words, pad_to_multiple_of, return_tensors, return_token_type_ids, return_attention_mask, return_overflowing_tokens, return_special_tokens_mask, return_offsets_mapping, return_length, verbose, **kwargs)\u001b[0m\n\u001b[1;32m   2543\u001b[0m         \u001b[38;5;28;01mreturn\u001b[39;00m \u001b[38;5;28;01mFalse\u001b[39;00m\n\u001b[1;32m   2545\u001b[0m \u001b[38;5;28;01mif\u001b[39;00m \u001b[38;5;129;01mnot\u001b[39;00m _is_valid_text_input(text):\n\u001b[0;32m-> 2546\u001b[0m     \u001b[38;5;28;01mraise\u001b[39;00m \u001b[38;5;167;01mValueError\u001b[39;00m(\n\u001b[1;32m   2547\u001b[0m         \u001b[38;5;124m\"\u001b[39m\u001b[38;5;124mtext input must of type `str` (single example), `List[str]` (batch or single pretokenized example) \u001b[39m\u001b[38;5;124m\"\u001b[39m\n\u001b[1;32m   2548\u001b[0m         \u001b[38;5;124m\"\u001b[39m\u001b[38;5;124mor `List[List[str]]` (batch of pretokenized examples).\u001b[39m\u001b[38;5;124m\"\u001b[39m\n\u001b[1;32m   2549\u001b[0m     )\n\u001b[1;32m   2551\u001b[0m \u001b[38;5;28;01mif\u001b[39;00m text_pair \u001b[38;5;129;01mis\u001b[39;00m \u001b[38;5;129;01mnot\u001b[39;00m \u001b[38;5;28;01mNone\u001b[39;00m \u001b[38;5;129;01mand\u001b[39;00m \u001b[38;5;129;01mnot\u001b[39;00m _is_valid_text_input(text_pair):\n\u001b[1;32m   2552\u001b[0m     \u001b[38;5;28;01mraise\u001b[39;00m \u001b[38;5;167;01mValueError\u001b[39;00m(\n\u001b[1;32m   2553\u001b[0m         \u001b[38;5;124m\"\u001b[39m\u001b[38;5;124mtext input must of type `str` (single example), `List[str]` (batch or single pretokenized example) \u001b[39m\u001b[38;5;124m\"\u001b[39m\n\u001b[1;32m   2554\u001b[0m         \u001b[38;5;124m\"\u001b[39m\u001b[38;5;124mor `List[List[str]]` (batch of pretokenized examples).\u001b[39m\u001b[38;5;124m\"\u001b[39m\n\u001b[1;32m   2555\u001b[0m     )\n",
      "\u001b[0;31mValueError\u001b[0m: text input must of type `str` (single example), `List[str]` (batch or single pretokenized example) or `List[List[str]]` (batch of pretokenized examples)."
     ]
    }
   ],
   "source": [
    "visa_sent_values = []\n",
    "for x in visa_x:\n",
    "    inputs = tokenizer(x, padding = True, truncation = True, return_tensors='pt') #tokenize text to be sent to model\n",
    "    outputs = finbert(**inputs)\n",
    "    predictions = torch.nn.functional.softmax(outputs.logits, dim=-1)\n",
    "    \n",
    "    finbert.config.id2label"
   ]
  },
  {
   "cell_type": "code",
   "execution_count": null,
   "id": "82cee590",
   "metadata": {},
   "outputs": [],
   "source": []
  }
 ],
 "metadata": {
  "kernelspec": {
   "display_name": "Python 3",
   "language": "python",
   "name": "python3"
  },
  "language_info": {
   "codemirror_mode": {
    "name": "ipython",
    "version": 3
   },
   "file_extension": ".py",
   "mimetype": "text/x-python",
   "name": "python",
   "nbconvert_exporter": "python",
   "pygments_lexer": "ipython3",
   "version": "3.8.8"
  }
 },
 "nbformat": 4,
 "nbformat_minor": 5
}
